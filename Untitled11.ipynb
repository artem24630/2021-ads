{
  "nbformat": 4,
  "nbformat_minor": 0,
  "metadata": {
    "colab": {
      "name": "Untitled11.ipynb",
      "provenance": [],
      "collapsed_sections": [],
      "authorship_tag": "ABX9TyNsd2nopPc4KYQHsB28A0Rh",
      "include_colab_link": true
    },
    "kernelspec": {
      "name": "python3",
      "display_name": "Python 3"
    },
    "language_info": {
      "name": "python"
    }
  },
  "cells": [
    {
      "cell_type": "markdown",
      "metadata": {
        "id": "view-in-github",
        "colab_type": "text"
      },
      "source": [
        "<a href=\"https://colab.research.google.com/github/artem24630/2021-ads/blob/main/Untitled11.ipynb\" target=\"_parent\"><img src=\"https://colab.research.google.com/assets/colab-badge.svg\" alt=\"Open In Colab\"/></a>"
      ]
    },
    {
      "cell_type": "code",
      "execution_count": null,
      "metadata": {
        "id": "hMzXNv4_XS_X"
      },
      "outputs": [],
      "source": [
        "import sympy\n",
        "from sympy import exp"
      ]
    },
    {
      "cell_type": "code",
      "source": [
        "x1,x2,x3,x4 = sympy.symbols('x1 x2 x3 x4')\n",
        "p2, p3 = sympy.symbols('p2 p3')\n",
        "p1 = 1;\n",
        "p4 = 0.2;\n",
        "p5 = 0.2;\n",
        "p6 = -5;\n",
        "p7 = -5;\n",
        "p8 = 20;\n",
        "p9 = 10;\n",
        "f = sympy.Matrix( [\n",
        "    -x1 + p2*(1-x1)*exp(x2/(1+x2/p8)),\n",
        "    -x2 + p2*p9*(1 - x1)*exp(x2 / (1 + x2/p8)) - p4*(x2 - p6),\n",
        "    (x1 - x3 + p3*(1-x3)*exp(x4/(1+x4/p8)))*p2/p3,\n",
        "    (x2 - x4 + p3*p9*(1-x3)*exp(x4/(1+x4/p8)) - p5*(x4-p7))*p2/p3,\n",
        "]);\n",
        "\n",
        "Y = sympy.Matrix([x1, x2, x3, x4])\n",
        "jac = f.jacobian(Y)\n",
        "jac_s = sympy.simplify(jac)\n",
        "jac_s"
      ],
      "metadata": {
        "id": "Y73QTPd-YAOU",
        "colab": {
          "base_uri": "https://localhost:8080/",
          "height": 175
        },
        "outputId": "64bf9349-b446-42cc-bfe2-e99da22489c2"
      },
      "execution_count": null,
      "outputs": [
        {
          "output_type": "execute_result",
          "data": {
            "text/plain": [
              "Matrix([\n",
              "[-p2*exp(20*x2/(x2 + 20)) - 1,               400*p2*(1 - x1)*exp(20*x2/(x2 + 20))/(x2**2 + 40*x2 + 400),                                0,                                                                                0],\n",
              "[ -10*p2*exp(20*x2/(x2 + 20)), -(4000*p2*(x1 - 1)*exp(20*x2/(x2 + 20)) + 1.2*(x2 + 20)**2)/(x2 + 20)**2,                                0,                                                                                0],\n",
              "[                       p2/p3,                                                                        0, -p2*exp(20*x4/(x4 + 20)) - p2/p3,                       400*p2*(1 - x3)*exp(20*x4/(x4 + 20))/(x4**2 + 40*x4 + 400)],\n",
              "[                           0,                                                                    p2/p3,      -10*p2*exp(20*x4/(x4 + 20)), -p2*(4000*p3*(x3 - 1)*exp(20*x4/(x4 + 20)) + 1.2*(x4 + 20)**2)/(p3*(x4 + 20)**2)]])"
            ],
            "text/latex": "$\\displaystyle \\left[\\begin{matrix}- p_{2} e^{\\frac{20 x_{2}}{x_{2} + 20}} - 1 & \\frac{400 p_{2} \\left(1 - x_{1}\\right) e^{\\frac{20 x_{2}}{x_{2} + 20}}}{x_{2}^{2} + 40 x_{2} + 400} & 0 & 0\\\\- 10 p_{2} e^{\\frac{20 x_{2}}{x_{2} + 20}} & - \\frac{4000 p_{2} \\left(x_{1} - 1\\right) e^{\\frac{20 x_{2}}{x_{2} + 20}} + 1.2 \\left(x_{2} + 20\\right)^{2}}{\\left(x_{2} + 20\\right)^{2}} & 0 & 0\\\\\\frac{p_{2}}{p_{3}} & 0 & - p_{2} e^{\\frac{20 x_{4}}{x_{4} + 20}} - \\frac{p_{2}}{p_{3}} & \\frac{400 p_{2} \\left(1 - x_{3}\\right) e^{\\frac{20 x_{4}}{x_{4} + 20}}}{x_{4}^{2} + 40 x_{4} + 400}\\\\0 & \\frac{p_{2}}{p_{3}} & - 10 p_{2} e^{\\frac{20 x_{4}}{x_{4} + 20}} & - \\frac{p_{2} \\left(4000 p_{3} \\left(x_{3} - 1\\right) e^{\\frac{20 x_{4}}{x_{4} + 20}} + 1.2 \\left(x_{4} + 20\\right)^{2}\\right)}{p_{3} \\left(x_{4} + 20\\right)^{2}}\\end{matrix}\\right]$"
          },
          "metadata": {},
          "execution_count": 3
        }
      ]
    },
    {
      "cell_type": "markdown",
      "source": [
        "I. Берем верхний блок матрицы Якоби"
      ],
      "metadata": {
        "id": "uSoJLTmm9YAT"
      }
    },
    {
      "cell_type": "code",
      "source": [
        "first = sympy.Matrix([[jac_s.row(0).col(0) , jac_s.row(0).col(1)], [jac_s.row(1).col(0), jac_s.row(1).col(1)]])\n",
        "first_det = first.det();\n",
        "first_det # определитель верхнего блока"
      ],
      "metadata": {
        "id": "b9YHKkoKAzdL",
        "colab": {
          "base_uri": "https://localhost:8080/",
          "height": 65
        },
        "outputId": "1c58e84d-843d-461b-dda0-96918ed856c7"
      },
      "execution_count": null,
      "outputs": [
        {
          "output_type": "execute_result",
          "data": {
            "text/plain": [
              "(4000.0*p2*x1*exp(20*x2/(x2 + 20)) + 1.2*p2*x2**2*exp(20*x2/(x2 + 20)) + 48.0*p2*x2*exp(20*x2/(x2 + 20)) - 3520.0*p2*exp(20*x2/(x2 + 20)) + 1.2*x2**2 + 48.0*x2 + 480.0)/(1.0*x2**2 + 40.0*x2 + 400.0)"
            ],
            "text/latex": "$\\displaystyle \\frac{4000.0 p_{2} x_{1} e^{\\frac{20 x_{2}}{x_{2} + 20}} + 1.2 p_{2} x_{2}^{2} e^{\\frac{20 x_{2}}{x_{2} + 20}} + 48.0 p_{2} x_{2} e^{\\frac{20 x_{2}}{x_{2} + 20}} - 3520.0 p_{2} e^{\\frac{20 x_{2}}{x_{2} + 20}} + 1.2 x_{2}^{2} + 48.0 x_{2} + 480.0}{1.0 x_{2}^{2} + 40.0 x_{2} + 400.0}$"
          },
          "metadata": {},
          "execution_count": 4
        }
      ]
    },
    {
      "cell_type": "code",
      "source": [
        "from sympy.solvers import solve"
      ],
      "metadata": {
        "id": "rIRtjiN_A4OP"
      },
      "execution_count": null,
      "outputs": []
    },
    {
      "cell_type": "code",
      "source": [
        "m3 = sympy.Matrix([f.row(0).col(0), f.row(1).col(0), first_det])\n"
      ],
      "metadata": {
        "id": "HJNOYgghA7qB"
      },
      "execution_count": null,
      "outputs": []
    },
    {
      "cell_type": "code",
      "source": [
        "# умножаю (1) на p9 и вычитаю из второго, затем выражаю x1 через x2\n",
        "asd = f.row(1).col(0) - f.row(0).col(0) * p9\n",
        "x1_x2 = solve(asd, x1)\n",
        "x1_x2[x1] # x1 через x2"
      ],
      "metadata": {
        "colab": {
          "base_uri": "https://localhost:8080/",
          "height": 39
        },
        "id": "-9c2hPAZD8O0",
        "outputId": "0ced1f34-5a9f-4a5d-cd08-6307a552bae2"
      },
      "execution_count": null,
      "outputs": [
        {
          "output_type": "execute_result",
          "data": {
            "text/plain": [
              "0.12*x2 + 0.1"
            ],
            "text/latex": "$\\displaystyle 0.12 x_{2} + 0.1$"
          },
          "metadata": {},
          "execution_count": 7
        }
      ]
    },
    {
      "cell_type": "code",
      "source": [
        "# выражаю p2*exp из (1) через x1\n",
        "p2exp = solve(f.row(0).col(0), p2*exp(x2/(1+x2/p8)))\n",
        "p2res = p2exp[p2*exp(x2/(1+x2/p8))]\n",
        "p2res # p2*exp через x1"
      ],
      "metadata": {
        "colab": {
          "base_uri": "https://localhost:8080/",
          "height": 50
        },
        "id": "-cB9tIHxEoih",
        "outputId": "e28534c8-edde-4b1f-f519-f6ee1841c4e5"
      },
      "execution_count": null,
      "outputs": [
        {
          "output_type": "execute_result",
          "data": {
            "text/plain": [
              "-x1/(x1 - 1)"
            ],
            "text/latex": "$\\displaystyle - \\frac{x_{1}}{x_{1} - 1}$"
          },
          "metadata": {},
          "execution_count": 8
        }
      ]
    },
    {
      "cell_type": "code",
      "source": [
        "#вычисляю x2\n",
        "x2_res = list(solve(sympy.simplify(first_det.subs(p2*exp(20*x2/(x2+20)), p2exp[p2*exp(x2/(1+x2/p8))]).subs(x1, x1_x2[x1])), x2, set=True)[1])\n",
        "x2_res\n"
      ],
      "metadata": {
        "colab": {
          "base_uri": "https://localhost:8080/"
        },
        "id": "2ihT_NAdFfww",
        "outputId": "12630f82-83da-4f38-c5ed-b14a1d0cfe76"
      },
      "execution_count": null,
      "outputs": [
        {
          "output_type": "execute_result",
          "data": {
            "text/plain": [
              "[(5.33150115366982,), (0.382784560615890,)]"
            ]
          },
          "metadata": {},
          "execution_count": 9
        }
      ]
    },
    {
      "cell_type": "code",
      "source": [
        "\n",
        "# (а) вычисляю для первого значения x2 значения x1 , p2\n",
        "x1_res = x1_x2[x1].subs(x2, x2_res[0][0])\n",
        "print('x2 ', x2_res[0][0])\n",
        "print('x1 ', x1_res)\n",
        "p2res_1 = p2res.subs(x1, x1_res)\n",
        "p2res_1 = p2res_1 / exp(x2_res[0][0]/(1+x2_res[0][0]/p8))\n",
        "print('p2 ', p2res_1)\n"
      ],
      "metadata": {
        "colab": {
          "base_uri": "https://localhost:8080/"
        },
        "id": "ACN2A9PrcIbs",
        "outputId": "a503afa5-422b-45ea-a222-d6ef98e9cac4"
      },
      "execution_count": null,
      "outputs": [
        {
          "output_type": "stream",
          "name": "stdout",
          "text": [
            "x2  5.33150115366982\n",
            "x1  0.739780138440379\n",
            "p2  0.0422327979927248\n"
          ]
        }
      ]
    },
    {
      "cell_type": "code",
      "source": [
        "\n",
        "# # (б) вычисляю для второго значения x2 значения x1, p2\n",
        "x1_res_2 = x1_x2[x1].subs(x2, x2_res[1][0])\n",
        "print('x2 ',x2_res[1][0])\n",
        "print('x1 ' ,x1_res_2)\n",
        "p2res_2 = p2res.subs(x1, x1_res_2)\n",
        "p2res_2 = p2res_2 / exp(x2_res[1][0]/(1+x2_res[1][0]/p8))\n",
        "print('p2 ' ,p2res_2)\n"
      ],
      "metadata": {
        "id": "zQC2K8_vJg38",
        "colab": {
          "base_uri": "https://localhost:8080/"
        },
        "outputId": "98d57a89-1c9e-460d-8b74-56fc5273cbd8"
      },
      "execution_count": null,
      "outputs": [
        {
          "output_type": "stream",
          "name": "stdout",
          "text": [
            "x2  0.382784560615890\n",
            "x1  0.145934147273907\n",
            "p2  0.117367085601612\n"
          ]
        }
      ]
    },
    {
      "cell_type": "code",
      "source": [
        "# берем набор (а) и идем в 3 и 4 уравнения\n",
        "# f4 = f.row(3).col(0) - f.row(2).col(0)*p9 \n",
        "# x3_x4 = solve(f4, x3)\n",
        "# x3_x4[x3] # x3 через x4\n",
        "\n",
        "#f.row(2).col(0).subs(x1, x1_res).subs(x2, x2_res[0][0]).subs(p2, p2res_1)\n",
        "#print(f3)"
      ],
      "metadata": {
        "id": "wSFPlm-UcpDb"
      },
      "execution_count": null,
      "outputs": []
    },
    {
      "cell_type": "code",
      "source": [
        "# p3exp = solve(f.row(2).col(0), p3*exp(x4/(1+x4/p8)))\n",
        "# p3exp = p3exp[p3*exp(x4/(x4/20 + 1))].subs(x3, x3_x4[x3])\n",
        "# p3exp = p3exp / exp(x4/(x4/20 + 1))\n",
        "# p3exp # p3 через x4"
      ],
      "metadata": {
        "id": "rgOFo97pVQS2"
      },
      "execution_count": null,
      "outputs": []
    },
    {
      "cell_type": "code",
      "source": [
        ""
      ],
      "metadata": {
        "id": "CM7O7K3FZ3EN"
      },
      "execution_count": null,
      "outputs": []
    },
    {
      "cell_type": "markdown",
      "source": [
        "II\n"
      ],
      "metadata": {
        "id": "5kUOmMxSfm9_"
      }
    },
    {
      "cell_type": "code",
      "source": [
        "second = sympy.Matrix([[jac_s.row(2).col(2) , jac_s.row(2).col(3)], [jac_s.row(3).col(2), jac_s.row(3).col(3)]])\n",
        "second_det = sympy.simplify(second.det());\n",
        "second_det # определитель верхнего блока"
      ],
      "metadata": {
        "colab": {
          "base_uri": "https://localhost:8080/",
          "height": 71
        },
        "id": "75mFM7jzfoVK",
        "outputId": "607703c7-8ccf-4538-93b8-9218ca99eb3c"
      },
      "execution_count": null,
      "outputs": [
        {
          "output_type": "execute_result",
          "data": {
            "text/plain": [
              "p2**2*(4000.0*p3*x3*exp(20*x4/(x4 + 20)) + 1.2*p3*x4**2*exp(20*x4/(x4 + 20)) + 48.0*p3*x4*exp(20*x4/(x4 + 20)) - 3520.0*p3*exp(20*x4/(x4 + 20)) + 1.2*x4**2 + 48.0*x4 + 480.0)/(p3**2*(1.0*x4**2 + 40.0*x4 + 400.0))"
            ],
            "text/latex": "$\\displaystyle \\frac{p_{2}^{2} \\left(4000.0 p_{3} x_{3} e^{\\frac{20 x_{4}}{x_{4} + 20}} + 1.2 p_{3} x_{4}^{2} e^{\\frac{20 x_{4}}{x_{4} + 20}} + 48.0 p_{3} x_{4} e^{\\frac{20 x_{4}}{x_{4} + 20}} - 3520.0 p_{3} e^{\\frac{20 x_{4}}{x_{4} + 20}} + 1.2 x_{4}^{2} + 48.0 x_{4} + 480.0\\right)}{p_{3}^{2} \\left(1.0 x_{4}^{2} + 40.0 x_{4} + 400.0\\right)}$"
          },
          "metadata": {},
          "execution_count": 14
        }
      ]
    },
    {
      "cell_type": "code",
      "source": [
        "# нахожу p2 через x2\n",
        "\n",
        "\n",
        "p2res2_1 = p2res.subs(x1, x1_x2[x1])\n",
        "p2res2_1\n",
        "#p2res2_1 = p2res2_1 / exp( /(1+n/p8))\n"
      ],
      "metadata": {
        "colab": {
          "base_uri": "https://localhost:8080/",
          "height": 53
        },
        "id": "yCxpQmgegp1-",
        "outputId": "6bc362b7-8e43-4a0d-dfde-dc26fe1606c5"
      },
      "execution_count": null,
      "outputs": [
        {
          "output_type": "execute_result",
          "data": {
            "text/plain": [
              "-(0.12*x2 + 0.1)/(0.12*x2 - 0.9)"
            ],
            "text/latex": "$\\displaystyle - \\frac{0.12 x_{2} + 0.1}{0.12 x_{2} - 0.9}$"
          },
          "metadata": {},
          "execution_count": 17
        }
      ]
    },
    {
      "cell_type": "code",
      "source": [
        "x3_ = solve((f.row(3).col(0)/p2*p3 - f.row(2).col(0)/p2*p3*p9).subs(x1, x1_x2[x1]), x3)[x3]\n",
        "x3_ # x3 через x2, x4"
      ],
      "metadata": {
        "colab": {
          "base_uri": "https://localhost:8080/",
          "height": 39
        },
        "id": "-UGpzjUGnxl9",
        "outputId": "029f8e4f-7790-419b-b213-0f6c5adecc03"
      },
      "execution_count": null,
      "outputs": [
        {
          "output_type": "execute_result",
          "data": {
            "text/plain": [
              "0.02*x2 + 0.12*x4 + 0.2"
            ],
            "text/latex": "$\\displaystyle 0.02 x_{2} + 0.12 x_{4} + 0.2$"
          },
          "metadata": {},
          "execution_count": 18
        }
      ]
    },
    {
      "cell_type": "code",
      "source": [
        "# p3*exp(x4/(1+x4/p8)) через x2,x4\n",
        "\n",
        "p3exp_ = solve(f.row(2).col(0), p3*exp(x4/(1+x4/p8)))[p3*exp(x4/(1+x4/p8))].subs(x1, x1_x2[x1]).subs(x3, x3_)\n",
        "p3_ = p3exp_  / exp(x4/(1+x4/p8))\n",
        "\n",
        "x2x4 = sympy.simplify((second_det.subs(p3*exp(20*x4/(x4+20)),p3exp_) / p2**2 * p3**2).subs(x3, x3_))\n",
        "x2_ = solve(x2x4, x4)\n",
        "x2_"
      ],
      "metadata": {
        "colab": {
          "base_uri": "https://localhost:8080/"
        },
        "id": "GKrjYD4yoiiC",
        "outputId": "ea225e80-88d3-4c67-dc53-110280b26d29"
      },
      "execution_count": null,
      "outputs": [
        {
          "output_type": "execute_result",
          "data": {
            "text/plain": [
              "[3.33333333333333*(-92.0*x2 + 507.937003968012*sqrt(-7.75193798449612e-5*x2**3 + 0.067015503875969*x2**2 - 0.631589147286822*x2 + 1) - 610.0)/(2.0*x2 - 815.0),\n",
              " -(920.0*x2 + 5079.37003968012*sqrt(-7.75193798449612e-5*x2**3 + 0.067015503875969*x2**2 - 0.631589147286822*x2 + 1) + 6100.0)/(6.0*x2 - 2445.0)]"
            ]
          },
          "metadata": {},
          "execution_count": 19
        }
      ]
    },
    {
      "cell_type": "code",
      "source": [
        "p3exp_"
      ],
      "metadata": {
        "colab": {
          "base_uri": "https://localhost:8080/",
          "height": 53
        },
        "id": "a1K2Be-hvv6K",
        "outputId": "cf0b09a3-dd13-4db4-8619-331bde179f45"
      },
      "execution_count": null,
      "outputs": [
        {
          "output_type": "execute_result",
          "data": {
            "text/plain": [
              "(0.1*x2 - 0.12*x4 - 0.1)/(0.02*x2 + 0.12*x4 - 0.8)"
            ],
            "text/latex": "$\\displaystyle \\frac{0.1 x_{2} - 0.12 x_{4} - 0.1}{0.02 x_{2} + 0.12 x_{4} - 0.8}$"
          },
          "metadata": {},
          "execution_count": 20
        }
      ]
    },
    {
      "cell_type": "code",
      "source": [
        "print(x2_[0].subs(x2, 1.5))\n",
        "print(x2_[1].subs(x2, 1.5)) # контрольные точки сошлись"
      ],
      "metadata": {
        "colab": {
          "base_uri": "https://localhost:8080/"
        },
        "id": "Sw-X-dDnrOn4",
        "outputId": "b4602bc8-6ebb-4b95-aaee-fe16db2d8c04"
      },
      "execution_count": null,
      "outputs": [
        {
          "output_type": "stream",
          "name": "stdout",
          "text": [
            "2.13081976845403\n",
            "4.01039533827832\n"
          ]
        }
      ]
    },
    {
      "cell_type": "code",
      "source": [
        "import matplotlib.pyplot as plt\n",
        "p2s = []\n",
        "p3s1 = []\n",
        "p3s2 = []\n",
        "import numpy as np"
      ],
      "metadata": {
        "id": "rib8iC5Zt0U3"
      },
      "execution_count": null,
      "outputs": []
    },
    {
      "cell_type": "code",
      "source": [
        "Y_p2 = sympy.Matrix([x1, x2, x3, x4, p3])\n",
        "jacobian_ext = sympy.simplify(f.jacobian(Y_p2))\n",
        "print(jacobian_ext)\n",
        "m1 = sympy.Matrix([[jacobian_ext.row(2).col(2) , jacobian_ext.row(2).col(3),jacobian_ext.row(2).col(4)], [jacobian_ext.row(3).col(2), jacobian_ext.row(3).col(3), jacobian_ext.row(3).col(4)]])\n",
        "m1 # расширенная матрица Якоби с параметром p3"
      ],
      "metadata": {
        "colab": {
          "base_uri": "https://localhost:8080/",
          "height": 138
        },
        "id": "QHQQ2Wiwb9AC",
        "outputId": "45d1eaf8-bd9c-4cdb-e53a-79a33154cf5c"
      },
      "execution_count": null,
      "outputs": [
        {
          "output_type": "stream",
          "name": "stdout",
          "text": [
            "Matrix([[-p2*exp(20*x2/(x2 + 20)) - 1, 400*p2*(1 - x1)*exp(20*x2/(x2 + 20))/(x2**2 + 40*x2 + 400), 0, 0, 0], [-10*p2*exp(20*x2/(x2 + 20)), -(4000*p2*(x1 - 1)*exp(20*x2/(x2 + 20)) + 1.2*(x2 + 20)**2)/(x2 + 20)**2, 0, 0, 0], [p2/p3, 0, -p2*exp(20*x4/(x4 + 20)) - p2/p3, 400*p2*(1 - x3)*exp(20*x4/(x4 + 20))/(x4**2 + 40*x4 + 400), p2*(-x1 + x3)/p3**2], [0, p2/p3, -10*p2*exp(20*x4/(x4 + 20)), -p2*(4000*p3*(x3 - 1)*exp(20*x4/(x4 + 20)) + 1.2*(x4 + 20)**2)/(p3*(x4 + 20)**2), p2*(-x2 + 1.2*x4 + 1.0)/p3**2]])\n"
          ]
        },
        {
          "output_type": "execute_result",
          "data": {
            "text/plain": [
              "Matrix([\n",
              "[-p2*exp(20*x4/(x4 + 20)) - p2/p3,                       400*p2*(1 - x3)*exp(20*x4/(x4 + 20))/(x4**2 + 40*x4 + 400),           p2*(-x1 + x3)/p3**2],\n",
              "[     -10*p2*exp(20*x4/(x4 + 20)), -p2*(4000*p3*(x3 - 1)*exp(20*x4/(x4 + 20)) + 1.2*(x4 + 20)**2)/(p3*(x4 + 20)**2), p2*(-x2 + 1.2*x4 + 1.0)/p3**2]])"
            ],
            "text/latex": "$\\displaystyle \\left[\\begin{matrix}- p_{2} e^{\\frac{20 x_{4}}{x_{4} + 20}} - \\frac{p_{2}}{p_{3}} & \\frac{400 p_{2} \\left(1 - x_{3}\\right) e^{\\frac{20 x_{4}}{x_{4} + 20}}}{x_{4}^{2} + 40 x_{4} + 400} & \\frac{p_{2} \\left(- x_{1} + x_{3}\\right)}{p_{3}^{2}}\\\\- 10 p_{2} e^{\\frac{20 x_{4}}{x_{4} + 20}} & - \\frac{p_{2} \\left(4000 p_{3} \\left(x_{3} - 1\\right) e^{\\frac{20 x_{4}}{x_{4} + 20}} + 1.2 \\left(x_{4} + 20\\right)^{2}\\right)}{p_{3} \\left(x_{4} + 20\\right)^{2}} & \\frac{p_{2} \\left(- x_{2} + 1.2 x_{4} + 1.0\\right)}{p_{3}^{2}}\\end{matrix}\\right]$"
          },
          "metadata": {},
          "execution_count": 70
        }
      ]
    },
    {
      "cell_type": "code",
      "source": [
        "for n in np.arange(-1, 2, 0.1):\n",
        "  x4a = x2_[0].subs(x2, n)\n",
        "  x4b = x2_[1].subs(x2, n)\n",
        "\n",
        "  p3_res_1 = p3_.subs(x2, n).subs(x4, x4a) # p3_1\n",
        "  p3s1.append(p3_res_1)\n",
        "  p3_res_2 = p3_.subs(x2, n).subs(x4, x4b) # p3_2\n",
        "  p3s2.append(p3_res_2)\n",
        "  p2_r1 = p2res2_1.subs(x2, n) / exp(n/(1+n/p8)) # p2\n",
        "  p2s.append(p2_r1)\n",
        "  # if (abs(n -  1.5) < 0.01): \n",
        "  #   print('n = ', n)\n",
        "  #   print(p3_res_1)\n",
        "  #   print(p3_res_2)\n",
        "  #   print(p2_r1)\n",
        "\n",
        "\n",
        "  # блок проверки:\n",
        "\n",
        "\n",
        "  print(f.subs(x3, x3_).subs(x1, x1_x2[x1]).subs(x4, x4a).subs(p3, p3_res_1).subs(p2, p2_r1).subs(x2, n)) # f(x,p2,p3_1) = 0\n",
        "  print(f.subs(x3, x3_).subs(x1, x1_x2[x1]).subs(x4, x4b).subs(p3, p3_res_2).subs(p2, p2_r1).subs(x2, n)) # f(x,p2,p3_1) = 0\n",
        "  #print(second_det.subs(x3, x3_).subs(x4, x4a).subs(p3, p3_res_1).subs(p2, p2_r1).subs(x2, n)) # det(J_n+1) = 0\n",
        "  #print(second_det.subs(x3, x3_).subs(x4, x4b).subs(p3, p3_res_2).subs(p2, p2_r1).subs(x2, n)) # det(J_n+1) = 0\n",
        "  \n",
        "  # m = sympy.Matrix([[m1.row(0).col(1) , m1.row(0).col(2)], [m1.row(1).col(1) , m1.row(1).col(2)]]) # det(J) = 0\n",
        "  # print(m.det().subs(x3, x3_).subs(x1, x1_x2[x1]).subs(x4, x4a).subs(p3, p3_res_1).subs(p2, p2_r1).subs(x2, n))\n",
        "\n",
        "  # m = sympy.Matrix([[m1.row(0).col(0) , m1.row(0).col(2)], [m1.row(1).col(0) , m1.row(1).col(2)]])\n",
        "  # print(m.det().subs(x3, x3_).subs(x1, x1_x2[x1]).subs(x4, x4a).subs(p3, p3_res_1).subs(p2, p2_r1).subs(x2, n))\n"
      ],
      "metadata": {
        "id": "2z_sY9dNsxP7",
        "colab": {
          "base_uri": "https://localhost:8080/"
        },
        "outputId": "8b367613-d320-4e1f-bef1-7be0674ef4d8"
      },
      "execution_count": null,
      "outputs": [
        {
          "output_type": "stream",
          "name": "stdout",
          "text": [
            "Matrix([[0], [5.55111512312578e-17], [3.46944695195361e-18], [8.32667268468867e-17]])\n",
            "Matrix([[0], [5.55111512312578e-17], [-2.42861286636753e-17], [-6.66133814775094e-16]])\n",
            "Matrix([[-1.73472347597681e-18], [1.11022302462516e-16], [3.46944695195361e-18], [2.77555756156289e-17]])\n",
            "Matrix([[-1.73472347597681e-18], [1.11022302462516e-16], [1.38777878078145e-17], [3.05311331771918e-16]])\n",
            "Matrix([[0], [0], [-8.67361737988404e-19], [-3.46944695195361e-18]])\n",
            "Matrix([[0], [0], [1.73472347597681e-18], [2.08166817117217e-17]])\n",
            "Matrix([[3.46944695195361e-18], [8.32667268468867e-17], [5.20417042793042e-18], [5.55111512312578e-17]])\n",
            "Matrix([[3.46944695195361e-18], [8.32667268468867e-17], [-3.98986399474666e-17], [-8.88178419700125e-16]])\n",
            "Matrix([[0], [0], [5.20417042793042e-18], [8.32667268468867e-17]])\n",
            "Matrix([[0], [0], [6.93889390390723e-17], [-8.32667268468867e-17]])\n",
            "Matrix([[0], [-5.55111512312578e-17], [1.38777878078145e-17], [1.11022302462516e-16]])\n",
            "Matrix([[0], [-5.55111512312578e-17], [-5.55111512312578e-17], [-4.16333634234434e-16]])\n",
            "Matrix([[6.93889390390723e-18], [1.11022302462516e-16], [-1.73472347597681e-17], [-5.55111512312578e-17]])\n",
            "Matrix([[6.93889390390723e-18], [1.11022302462516e-16], [-9.36750677027476e-17], [-9.71445146547012e-16]])\n",
            "Matrix([[0], [-1.11022302462516e-16], [-2.77555756156289e-17], [-1.38777878078145e-16]])\n",
            "Matrix([[0], [-1.11022302462516e-16], [-2.22044604925031e-16], [-3.33066907387547e-16]])\n",
            "Matrix([[0], [0], [1.73472347597681e-18], [2.49800180540660e-16]])\n",
            "Matrix([[0], [0], [-2.08166817117217e-17], [8.60422844084496e-16]])\n",
            "Matrix([[0], [1.11022302462516e-16], [-1.38777878078145e-17], [-9.71445146547012e-17]])\n",
            "Matrix([[0], [1.11022302462516e-16], [-6.41847686111419e-17], [-2.16493489801906e-15]])\n",
            "Matrix([[0], [0], [-1.78110113950716e-17], [-1.78110113950716e-16]])\n",
            "Matrix([[0], [0], [1.78405885793062e-16], [-1.91109171996899e-16]])\n",
            "Matrix([[1.38777878078145e-17], [0], [-2.60208521396521e-17], [-5.55111512312578e-17]])\n",
            "Matrix([[1.38777878078145e-17], [0], [1.89084858881472e-16], [3.10862446895044e-15]])\n",
            "Matrix([[-1.38777878078145e-17], [-2.22044604925031e-16], [1.04083408558608e-17], [-2.77555756156289e-17]])\n",
            "Matrix([[-1.38777878078145e-17], [-2.22044604925031e-16], [1.07552855510562e-16], [-1.41553435639707e-15]])\n",
            "Matrix([[0], [0], [1.04083408558608e-17], [-3.33066907387547e-16]])\n",
            "Matrix([[0], [0], [4.61436444609831e-16], [5.49560397189452e-15]])\n",
            "Matrix([[-2.77555756156289e-17], [2.22044604925031e-16], [-3.46944695195361e-17], [-5.55111512312578e-16]])\n",
            "Matrix([[-2.77555756156289e-17], [2.22044604925031e-16], [1.73472347597681e-16], [2.27595720048157e-15]])\n",
            "Matrix([[2.77555756156289e-17], [2.22044604925031e-16], [1.38777878078145e-17], [2.22044604925031e-16]])\n",
            "Matrix([[2.77555756156289e-17], [2.22044604925031e-16], [1.24900090270330e-16], [8.88178419700125e-16]])\n",
            "Matrix([[0], [-2.22044604925031e-16], [-4.16333634234434e-17], [-3.33066907387547e-16]])\n",
            "Matrix([[0], [-2.22044604925031e-16], [4.44089209850063e-16], [3.66373598126302e-15]])\n",
            "Matrix([[-2.77555756156289e-17], [-2.22044604925031e-16], [1.38777878078145e-17], [1.11022302462516e-16]])\n",
            "Matrix([[-2.77555756156289e-17], [-2.22044604925031e-16], [9.71445146547012e-17], [-1.44328993201270e-15]])\n",
            "Matrix([[0], [-2.22044604925031e-16], [-5.55111512312578e-17], [-2.22044604925031e-16]])\n",
            "Matrix([[0], [-2.22044604925031e-16], [1.66533453693773e-16], [1.22124532708767e-15]])\n",
            "Matrix([[0], [4.44089209850063e-16], [1.24900090270330e-16], [6.66133814775094e-16]])\n",
            "Matrix([[0], [4.44089209850063e-16], [5.55111512312578e-17], [-2.22044604925031e-16]])\n",
            "Matrix([[0], [0], [5.55111512312578e-17], [0]])\n",
            "Matrix([[0], [0], [1.66533453693773e-16], [2.44249065417534e-15]])\n",
            "Matrix([[0], [0], [2.77555756156289e-17], [2.22044604925031e-16]])\n",
            "Matrix([[0], [0], [1.38777878078145e-16], [4.44089209850063e-16]])\n",
            "Matrix([[0], [0], [2.77555756156289e-17], [1.33226762955019e-15]])\n",
            "Matrix([[0], [0], [3.60822483003176e-16], [3.99680288865056e-15]])\n",
            "Matrix([[5.55111512312578e-17], [0], [2.77555756156289e-17], [0]])\n",
            "Matrix([[5.55111512312578e-17], [0], [1.38777878078145e-16], [2.44249065417534e-15]])\n",
            "Matrix([[-5.55111512312578e-17], [0], [-2.77555756156289e-17], [0]])\n",
            "Matrix([[-5.55111512312578e-17], [0], [2.49800180540660e-16], [3.33066907387547e-15]])\n",
            "Matrix([[-5.55111512312578e-17], [-8.88178419700125e-16], [2.77555756156289e-17], [-4.44089209850063e-16]])\n",
            "Matrix([[-5.55111512312578e-17], [-8.88178419700125e-16], [2.77555756156289e-17], [2.22044604925031e-16]])\n",
            "Matrix([[0], [-4.44089209850063e-16], [8.32667268468867e-17], [1.33226762955019e-15]])\n",
            "Matrix([[0], [-4.44089209850063e-16], [2.77555756156289e-17], [1.33226762955019e-15]])\n",
            "Matrix([[0], [4.44089209850063e-16], [5.55111512312578e-17], [0]])\n",
            "Matrix([[0], [4.44089209850063e-16], [8.32667268468867e-17], [3.10862446895044e-15]])\n",
            "Matrix([[0], [0], [1.11022302462516e-16], [8.88178419700125e-16]])\n",
            "Matrix([[0], [0], [1.38777878078145e-16], [1.77635683940025e-15]])\n",
            "Matrix([[5.55111512312578e-17], [8.88178419700125e-16], [5.55111512312578e-17], [0]])\n",
            "Matrix([[5.55111512312578e-17], [8.88178419700125e-16], [0], [4.44089209850063e-16]])\n"
          ]
        }
      ]
    },
    {
      "cell_type": "code",
      "source": [
        "plt.figure(figsize=(15, 10))\n",
        "plt.plot(p2s, p3s1, 'ro')\n",
        "plt.plot(p2s, p3s2, 'g^')\n",
        "plt.axvline(p2res_1)\n",
        "plt.axvline(p2res_2)\n",
        "plt.show()"
      ],
      "metadata": {
        "colab": {
          "base_uri": "https://localhost:8080/",
          "height": 592
        },
        "id": "hxy6oz5QwGZL",
        "outputId": "b1fe0de7-c913-431f-8be8-aefa348eea95"
      },
      "execution_count": null,
      "outputs": [
        {
          "output_type": "display_data",
          "data": {
            "text/plain": [
              "<Figure size 1080x720 with 1 Axes>"
            ],
            "image/png": "[encoded data removed]"
          },
          "metadata": {
            "needs_background": "light"
          }
        }
      ]
    },
    {
      "cell_type": "code",
      "source": [
        "plt.xlabel('p2')\n",
        "plt.ylabel('p3')\n",
        "plt.plot(p2s, p3s2, 'g^')"
      ],
      "metadata": {
        "colab": {
          "base_uri": "https://localhost:8080/",
          "height": 297
        },
        "id": "rYkGiGhaxaQ5",
        "outputId": "de849483-c3f0-4883-8d66-826ff83adb03"
      },
      "execution_count": null,
      "outputs": [
        {
          "output_type": "execute_result",
          "data": {
            "text/plain": [
              "[<matplotlib.lines.Line2D at 0x7f04b41fc390>]"
            ]
          },
          "metadata": {},
          "execution_count": 34
        },
        {
          "output_type": "display_data",
          "data": {
            "text/plain": [
              "<Figure size 432x288 with 1 Axes>"
            ],
            "image/png": "[encoded data removed]"
          },
          "metadata": {
            "needs_background": "light"
          }
        }
      ]
    },
    {
      "cell_type": "code",
      "source": [
        " plt.axvline(p2res_1)\n",
        "\n",
        " plt.axvline(p2res_2)\n",
        " plt.show();"
      ],
      "metadata": {
        "colab": {
          "base_uri": "https://localhost:8080/",
          "height": 269
        },
        "id": "rJJc-WgCNg2O",
        "outputId": "19e475d9-4f89-4920-9a1a-e138ebfb1d05"
      },
      "execution_count": null,
      "outputs": [
        {
          "output_type": "display_data",
          "data": {
            "text/plain": [
              "<Figure size 432x288 with 1 Axes>"
            ],
            "image/png": "[encoded data removed]"
          },
          "metadata": {
            "needs_background": "light"
          }
        }
      ]
    },
    {
      "cell_type": "code",
      "source": [
        ""
      ],
      "metadata": {
        "id": "orhYngFJOmyi",
        "colab": {
          "base_uri": "https://localhost:8080/",
          "height": 138
        },
        "outputId": "fec213f5-c78e-4a9a-92b9-85bfd1cc2f46"
      },
      "execution_count": null,
      "outputs": [
        {
          "output_type": "stream",
          "name": "stdout",
          "text": [
            "Matrix([[-p2*exp(20*x2/(x2 + 20)) - 1, 400*p2*(1 - x1)*exp(20*x2/(x2 + 20))/(x2**2 + 40*x2 + 400), 0, 0, (1 - x1)*exp(20*x2/(x2 + 20))], [-10*p2*exp(20*x2/(x2 + 20)), -(4000*p2*(x1 - 1)*exp(20*x2/(x2 + 20)) + 1.2*(x2 + 20)**2)/(x2 + 20)**2, 0, 0, 10*(1 - x1)*exp(20*x2/(x2 + 20))], [p2/p3, 0, -p2*exp(20*x4/(x4 + 20)) - p2/p3, 400*p2*(1 - x3)*exp(20*x4/(x4 + 20))/(x4**2 + 40*x4 + 400), (-p3*(x3 - 1)*exp(20*x4/(x4 + 20)) + x1 - x3)/p3], [0, p2/p3, -10*p2*exp(20*x4/(x4 + 20)), -p2*(4000*p3*(x3 - 1)*exp(20*x4/(x4 + 20)) + 1.2*(x4 + 20)**2)/(p3*(x4 + 20)**2), (-10*p3*(x3 - 1)*exp(20*x4/(x4 + 20)) + x2 - 1.2*x4 - 1.0)/p3]])\n"
          ]
        },
        {
          "output_type": "execute_result",
          "data": {
            "text/plain": [
              "Matrix([\n",
              "[-p2*exp(20*x4/(x4 + 20)) - p2/p3,                       400*p2*(1 - x3)*exp(20*x4/(x4 + 20))/(x4**2 + 40*x4 + 400),              (-p3*(x3 - 1)*exp(20*x4/(x4 + 20)) + x1 - x3)/p3],\n",
              "[     -10*p2*exp(20*x4/(x4 + 20)), -p2*(4000*p3*(x3 - 1)*exp(20*x4/(x4 + 20)) + 1.2*(x4 + 20)**2)/(p3*(x4 + 20)**2), (-10*p3*(x3 - 1)*exp(20*x4/(x4 + 20)) + x2 - 1.2*x4 - 1.0)/p3]])"
            ],
            "text/latex": "$\\displaystyle \\left[\\begin{matrix}- p_{2} e^{\\frac{20 x_{4}}{x_{4} + 20}} - \\frac{p_{2}}{p_{3}} & \\frac{400 p_{2} \\left(1 - x_{3}\\right) e^{\\frac{20 x_{4}}{x_{4} + 20}}}{x_{4}^{2} + 40 x_{4} + 400} & \\frac{- p_{3} \\left(x_{3} - 1\\right) e^{\\frac{20 x_{4}}{x_{4} + 20}} + x_{1} - x_{3}}{p_{3}}\\\\- 10 p_{2} e^{\\frac{20 x_{4}}{x_{4} + 20}} & - \\frac{p_{2} \\left(4000 p_{3} \\left(x_{3} - 1\\right) e^{\\frac{20 x_{4}}{x_{4} + 20}} + 1.2 \\left(x_{4} + 20\\right)^{2}\\right)}{p_{3} \\left(x_{4} + 20\\right)^{2}} & \\frac{- 10 p_{3} \\left(x_{3} - 1\\right) e^{\\frac{20 x_{4}}{x_{4} + 20}} + x_{2} - 1.2 x_{4} - 1.0}{p_{3}}\\end{matrix}\\right]$"
          },
          "metadata": {},
          "execution_count": 41
        }
      ]
    },
    {
      "cell_type": "code",
      "source": [
        "p2res_2\n"
      ],
      "metadata": {
        "colab": {
          "base_uri": "https://localhost:8080/",
          "height": 37
        },
        "id": "pW1W_NqvZDxP",
        "outputId": "f4761314-ba35-4547-fa66-62891413799d"
      },
      "execution_count": null,
      "outputs": [
        {
          "output_type": "execute_result",
          "data": {
            "text/plain": [
              "0.117367085601612"
            ],
            "text/latex": "$\\displaystyle 0.117367085601612$"
          },
          "metadata": {},
          "execution_count": 63
        }
      ]
    }
  ]
}